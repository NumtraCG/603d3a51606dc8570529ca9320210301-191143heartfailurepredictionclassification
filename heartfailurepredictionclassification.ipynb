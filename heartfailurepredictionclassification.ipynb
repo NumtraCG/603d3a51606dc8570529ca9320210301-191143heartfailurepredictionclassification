{
 "cells": [
  {
   "cell_type": "markdown",
   "metadata": {},
   "source": [
    "***GENERATED CODE FOR heartfailurepredictionclassification PIPELINE.***"
   ]
  },
  {
   "cell_type": "markdown",
   "metadata": {},
   "source": [
    "***DON'T EDIT THIS CODE.***"
   ]
  },
  {
   "cell_type": "markdown",
   "metadata": {},
   "source": [
    "***CONNECTOR FUNCTIONS TO READ DATA.***"
   ]
  },
  {
   "cell_type": "code",
   "execution_count": null,
   "metadata": {},
   "outputs": [],
   "source": []
  },
  {
   "cell_type": "markdown",
   "metadata": {},
   "source": [
    "***TRANSFORMATIONS FUNCTIONS THAT WILL BE APPLIED ON DATA***"
   ]
  },
  {
   "cell_type": "code",
   "execution_count": null,
   "metadata": {},
   "outputs": [],
   "source": [
    "import json\n",
    "from pyspark.sql.functions import round\n",
    "from pyspark.ml.feature import Binarizer\n",
    "from pyspark.sql.functions import col, when\n",
    "from pyspark.sql.functions import mean, stddev, min, max, col\n",
    "\n",
    "\n",
    "class CleanseData:\n",
    "    # def __init__(self,df):\n",
    "    #     #print()\n",
    "\n",
    "    def replaceByMean(self, feature, df, mean_=-1):\n",
    "\n",
    "        meanValue = df.select(mean(col(feature.name)).alias(\n",
    "            'mean')).collect()[0][\"mean\"]\n",
    "        df.fillna(meanValue, subset=[feature.name])\n",
    "        df.withColumn(feature.name, when(col(feature.name) == \" \",\n",
    "                                         meanValue).otherwise(col(feature.name).cast(\"Integer\")))\n",
    "        return df\n",
    "\n",
    "    def replaceByMax(self, feature, df, max_=-1):\n",
    "        maxValue = df.select(max(col(feature.name)).alias('max')).collect()[\n",
    "            0][\"max\"]\n",
    "        df.fillna(maxValue, subset=[feature.name])\n",
    "        df = df.withColumn(feature.name,\n",
    "                           when(col(feature.name) == \" \", maxValue).otherwise(col(feature.name)))\n",
    "        return df\n",
    "\n",
    "    def replaceByMin(self, feature, df, min_=-1):\n",
    "        minValue = df.select(min(col(feature.name)).alias('min')).collect()[\n",
    "            0][\"min\"]\n",
    "        df.fillna(minValue, subset=[feature.name])\n",
    "        df = df.withColumn(feature.name,\n",
    "                           when(col(feature.name) == \" \", minValue).otherwise(col(feature.name)))\n",
    "        return df\n",
    "\n",
    "    def replaceByStandardDeviation(self, feature, df, stddev_=-1):\n",
    "        stddevValue = df.select(stddev(col(feature.name)).alias(\n",
    "            'stddev')).collect()[0][\"stddev\"]\n",
    "        df.fillna(stddevValue, subset=[feature.name])\n",
    "        df = df.withColumn(feature.name,\n",
    "                           when(col(feature.name) == \" \", stddevValue).otherwise(col(feature.name)))\n",
    "        return df\n",
    "\n",
    "    def replaceDateRandomly(self, feature, df):\n",
    "        fillValue = df.where(col(feature.name).isNotNull()\n",
    "                             ).head(1)[0][feature.name]\n",
    "        df.fillna(str(fillValue), subset=[feature.name])\n",
    "        df = df.withColumn(feature.name,\n",
    "                           when(col(feature.name) == \" \", fillValue).otherwise(col(feature.name)))\n",
    "        # print(\"CleanseData:replaceDateRandomly Schema : \", df.#printSchema())\n",
    "        return df\n",
    "\n",
    "    def replaceNullValues(self, fList, df):\n",
    "        featuresList = df.schema.fields\n",
    "        for featureObj in fList:\n",
    "            for feat in featuresList:\n",
    "                if featureObj[\"feature\"] in feat.name:\n",
    "                    featureName = feat\n",
    "                    if \"mean\" in featureObj[\"replaceby\"]:\n",
    "                        df = self.replaceByMean(featureName, df)\n",
    "                    elif \"max\" in featureObj[\"replaceby\"]:\n",
    "                        df = self.replaceByMax(featureName, df)\n",
    "                    elif \"min\" in featureObj[\"replaceby\"]:\n",
    "                        df = self.replaceByMin(featureName, df)\n",
    "                    elif \"stddev\" in featureObj[\"replaceby\"]:\n",
    "                        df = self.replaceByStandardDeviation(featureName, df)\n",
    "                    elif \"random\" in featureObj[\"replaceby\"]:\n",
    "                        df = self.replaceDateRandomly(featureName, df)\n",
    "        return df\n",
    "\n",
    "\n",
    "def BinarizerTransform(df, params, transformationData={}):\n",
    "    dfReturn = df\n",
    "    transform_params = params\n",
    "    feature = transform_params['feature']\n",
    "    outcol = feature + \"_binarizer\"\n",
    "    dfReturn = dfReturn.withColumn(\"feature_cast\", dfReturn[feature].cast(\"double\")).drop(feature)\\\n",
    "        .withColumnRenamed(\"feature_cast\", feature)\n",
    "\n",
    "    dfReturn = dfReturn.fillna({feature: 0.0})\n",
    "    binarizer = Binarizer(threshold=float(\n",
    "        transformationData['threshold']), inputCol=feature, outputCol=outcol)\n",
    "    binarizedDataFrame = binarizer.transform(dfReturn)\n",
    "\n",
    "    # binarizedDataFrame=binarizedDataFrame.drop(feature).withColumnRenamed(outcol,feature)\n",
    "\n",
    "    dfReturn = binarizedDataFrame\n",
    "    dfReturn = dfReturn.withColumn(feature, round(dfReturn[feature], 2))\n",
    "\n",
    "    return dfReturn\n",
    "\n",
    "\n",
    "class TransformationMain:\n",
    "    # TODO: change df argument in run with following\n",
    "    def run(transformationDF, config):\n",
    "        configObj = json.loads(config)\n",
    "        featureData = configObj[\"FE\"]\n",
    "        transformationDF = CleanseData().replaceNullValues(featureData, transformationDF)\n",
    "        transformationDF = BinarizerTransform(transformationDF, {'transformationsData': [{'feature_label': 'platelets', 'threshold': 255027.54076923078, 'transformation_label': 'Binarizer'}], 'feature': 'platelets', 'type': 'real', 'selected': 'True', 'replaceby': 'mean', 'stats': {\n",
    "                                              'count': '13', 'mean': '255027.54', 'stddev': '105507.44', 'min': '127000.0', 'max': '504000.0', 'missing': '0'}, 'transformation': [{'transformation': 'Binarizer', 'selectedAsDefault': 1}], 'updatedLabel': 'platelets'}, {'feature_label': 'platelets', 'threshold': 255027.54076923078, 'transformation_label': 'Binarizer'})\n",
    "        transformationDF = transformationDF.drop('platelets')\n",
    "        display(transformationDF.limit(2).toPandas())\n",
    "        return transformationDF\n"
   ]
  },
  {
   "cell_type": "markdown",
   "metadata": {},
   "source": [
    "***AUTOML FUNCTIONS***"
   ]
  },
  {
   "cell_type": "code",
   "execution_count": null,
   "metadata": {},
   "outputs": [],
   "source": [
    "from tpot import TPOTClassifier\n",
    "from sklearn.model_selection import train_test_split\n",
    "import pyspark\n",
    "\n",
    "\n",
    "def functionClassification(sparkDF, listOfFeatures, label):\n",
    "    sparkDF.persist(pyspark.StorageLevel.MEMORY_AND_DISK)\n",
    "    df = (sparkDF.toPandas())\n",
    "    X = (df.drop(label, axis=1))[listOfFeatures].values\n",
    "    y = df[label].values\n",
    "    X_train, X_test, y_train, y_test = train_test_split(\n",
    "        X, y, random_state=1, test_size=0.1)\n",
    "    tpotModel = TPOTClassifier(verbosity=3, n_jobs=-1, generations=10, max_time_mins=5,\n",
    "                               population_size=15)\n",
    "    tpotModel.fit(X_train, y_train)\n",
    "    display(\" Accuracy of Model : %s\" % tpotModel.score(X_test, y_test))\n",
    "    data = {'model': tpotModel,\n",
    "            'X_test': X_test,\n",
    "            'y_test': y_test,\n",
    "            'label': label,\n",
    "            'columnNames': listOfFeatures}\n",
    "    return data\n"
   ]
  },
  {
   "cell_type": "markdown",
   "metadata": {},
   "source": [
    "***READING DATAFRAME***"
   ]
  },
  {
   "cell_type": "code",
   "execution_count": null,
   "metadata": {},
   "outputs": [],
   "source": [
    "#%run heartfailurepredictionclassificationHooks.ipynb\n",
    "try:\n",
    "\t#sourcePreExecutionHook()\n",
    "\n",
    "\theartfailuretraindata = HDFSConnector.fetch(spark, \"{'url': '/FileStore/platform/uploadedSourceFiles/1614625176643_HeartFailure-TrainData.csv', 'file_type': 'Delimeted', 'delimiter': ',', 'is_header': 'Use Header Line', 'FilePath': '/SampleProject/HeartFailurePrediction - Classification/HeartFailure-TrainData.csv', 'filename': '1614625176643_HeartFailure-TrainData.csv', 'viewFileName': 'HeartFailure-TrainData.csv'}\")\n",
    "\n",
    "except Exception as ex: \n",
    "\tlogging.error(ex)\n"
   ]
  },
  {
   "cell_type": "markdown",
   "metadata": {},
   "source": [
    "***TRANSFORMING DATAFRAME***"
   ]
  },
  {
   "cell_type": "code",
   "execution_count": null,
   "metadata": {},
   "outputs": [],
   "source": [
    "#%run heartfailurepredictionclassificationHooks.ipynb\n",
    "try:\n",
    "\t#transformationPreExecutionHook()\n",
    "\n",
    "\tautofe = TransformationMain.run(heartfailuretraindata,json.dumps( {\"FE\": [{\"transformationsData\": [{\"transformation_label\": \"novalue\"}], \"feature\": \"age\", \"type\": \"real\", \"selected\": \"True\", \"replaceby\": \"mean\", \"stats\": {\"count\": \"13\", \"mean\": \"62.85\", \"stddev\": \"11.54\", \"min\": \"42.0\", \"max\": \"80.0\", \"missing\": \"0\"}, \"transformation\": [{\"transformation\": \"novalue\", \"selectedAsDefault\": 1}], \"updatedLabel\": \"age\"}, {\"transformationsData\": [{\"transformation_label\": \"novalue\"}], \"feature\": \"anaemia\", \"transformation\": [{\"transformation\": \"novalue\", \"selectedAsDefault\": 1}], \"type\": \"numeric\", \"replaceby\": \"mean\", \"selected\": \"True\", \"stats\": {\"count\": \"13\", \"mean\": \"0.31\", \"stddev\": \"0.48\", \"min\": \"0\", \"max\": \"1\", \"missing\": \"0\"}, \"updatedLabel\": \"anaemia\"}, {\"transformationsData\": [{\"transformation_label\": \"novalue\"}], \"feature\": \"creatinine_phosphokinase\", \"transformation\": [{\"transformation\": \"novalue\", \"selectedAsDefault\": 1}], \"type\": \"numeric\", \"replaceby\": \"mean\", \"selected\": \"True\", \"stats\": {\"count\": \"13\", \"mean\": \"1122.62\", \"stddev\": \"1381.41\", \"min\": \"246\", \"max\": \"5209\", \"missing\": \"0\"}, \"updatedLabel\": \"creatinine_phosphokinase\"}, {\"transformationsData\": [{\"transformation_label\": \"novalue\"}], \"feature\": \"diabetes\", \"transformation\": [{\"transformation\": \"novalue\", \"selectedAsDefault\": 1}], \"type\": \"numeric\", \"replaceby\": \"mean\", \"selected\": \"True\", \"stats\": {\"count\": \"13\", \"mean\": \"0.31\", \"stddev\": \"0.48\", \"min\": \"0\", \"max\": \"1\", \"missing\": \"0\"}, \"updatedLabel\": \"diabetes\"}, {\"transformationsData\": [{\"transformation_label\": \"novalue\"}], \"feature\": \"ejection_fraction\", \"transformation\": [{\"transformation\": \"novalue\", \"selectedAsDefault\": 1}], \"type\": \"numeric\", \"replaceby\": \"mean\", \"selected\": \"True\", \"stats\": {\"count\": \"13\", \"mean\": \"33.08\", \"stddev\": \"11.82\", \"min\": \"15\", \"max\": \"60\", \"missing\": \"0\"}, \"updatedLabel\": \"ejection_fraction\"}, {\"transformationsData\": [{\"transformation_label\": \"novalue\"}], \"feature\": \"high_blood_pressure\", \"transformation\": [{\"transformation\": \"novalue\", \"selectedAsDefault\": 1}], \"type\": \"numeric\", \"replaceby\": \"mean\", \"selected\": \"True\", \"stats\": {\"count\": \"13\", \"mean\": \"0.38\", \"stddev\": \"0.51\", \"min\": \"0\", \"max\": \"1\", \"missing\": \"0\"}, \"updatedLabel\": \"high_blood_pressure\"}, {\"transformationsData\": [{\"feature_label\": \"platelets\", \"threshold\": 255027.54076923078, \"transformation_label\": \"Binarizer\"}], \"feature\": \"platelets\", \"type\": \"real\", \"selected\": \"True\", \"replaceby\": \"mean\", \"stats\": {\"count\": \"13\", \"mean\": \"255027.54\", \"stddev\": \"105507.44\", \"min\": \"127000.0\", \"max\": \"504000.0\", \"missing\": \"0\"}, \"transformation\": [{\"transformation\": \"Binarizer\", \"selectedAsDefault\": 1}], \"updatedLabel\": \"platelets\"}, {\"transformationsData\": [{\"transformation_label\": \"novalue\"}], \"feature\": \"serum_creatinine\", \"type\": \"real\", \"selected\": \"True\", \"replaceby\": \"mean\", \"stats\": {\"count\": \"13\", \"mean\": \"1.02\", \"stddev\": \"0.22\", \"min\": \"0.6\", \"max\": \"1.4\", \"missing\": \"0\"}, \"transformation\": [{\"transformation\": \"novalue\", \"selectedAsDefault\": 1}], \"updatedLabel\": \"serum_creatinine\"}, {\"transformationsData\": [{\"transformation_label\": \"novalue\"}], \"feature\": \"serum_sodium\", \"transformation\": [{\"transformation\": \"novalue\", \"selectedAsDefault\": 1}], \"type\": \"numeric\", \"replaceby\": \"mean\", \"selected\": \"True\", \"stats\": {\"count\": \"13\", \"mean\": \"137.15\", \"stddev\": \"4.51\", \"min\": \"125\", \"max\": \"144\", \"missing\": \"0\"}, \"updatedLabel\": \"serum_sodium\"}, {\"transformationsData\": [{\"transformation_label\": \"novalue\"}], \"feature\": \"sex\", \"transformation\": [{\"transformation\": \"novalue\", \"selectedAsDefault\": 1}], \"type\": \"numeric\", \"replaceby\": \"mean\", \"selected\": \"True\", \"stats\": {\"count\": \"13\", \"mean\": \"0.69\", \"stddev\": \"0.48\", \"min\": \"0\", \"max\": \"1\", \"missing\": \"0\"}, \"updatedLabel\": \"sex\"}, {\"transformationsData\": [{\"transformation_label\": \"novalue\"}], \"feature\": \"smoking\", \"transformation\": [{\"transformation\": \"novalue\", \"selectedAsDefault\": 1}], \"type\": \"numeric\", \"replaceby\": \"mean\", \"selected\": \"True\", \"stats\": {\"count\": \"13\", \"mean\": \"0.38\", \"stddev\": \"0.51\", \"min\": \"0\", \"max\": \"1\", \"missing\": \"0\"}, \"updatedLabel\": \"smoking\"}, {\"transformationsData\": [{\"transformation_label\": \"novalue\"}], \"feature\": \"time\", \"transformation\": [{\"transformation\": \"novalue\", \"selectedAsDefault\": 1}], \"type\": \"numeric\", \"replaceby\": \"mean\", \"selected\": \"True\", \"stats\": {\"count\": \"13\", \"mean\": \"121.77\", \"stddev\": \"67.27\", \"min\": \"10\", \"max\": \"206\", \"missing\": \"0\"}, \"updatedLabel\": \"time\"}, {\"transformationsData\": [{\"transformation_label\": \"novalue\"}], \"feature\": \"DEATH_EVENT\", \"transformation\": [{\"transformation\": \"novalue\", \"selectedAsDefault\": 1}], \"type\": \"numeric\", \"replaceby\": \"mean\", \"selected\": \"True\", \"stats\": {\"count\": \"13\", \"mean\": \"0.23\", \"stddev\": \"0.44\", \"min\": \"0\", \"max\": \"1\", \"missing\": \"0\"}, \"updatedLabel\": \"DEATH_EVENT\"}, {\"feature\": \"platelets_binarizer_transform\", \"transformation\": [{\"transformation\": \"novalue\", \"selectedAsDefault\": 0}], \"transformationsData\": [{\"transformation_label\": \"novalue\"}], \"type\": \"real\", \"selected\": \"True\", \"stats\": {\"count\": \"13\", \"mean\": \"0.54\", \"stddev\": \"0.52\", \"min\": \"0.0\", \"max\": \"1.0\", \"missing\": \"0\"}, \"updatedLabel\": \"platelets_binarizer_trans...\"}]}))\n",
    "\n",
    "\t#transformationPostExecutionHook(autofe)\n",
    "\n",
    "except Exception as ex: \n",
    "\tlogging.error(ex)\n"
   ]
  },
  {
   "cell_type": "markdown",
   "metadata": {},
   "source": [
    "***TRAIN MODEL***"
   ]
  },
  {
   "cell_type": "code",
   "execution_count": null,
   "metadata": {},
   "outputs": [],
   "source": [
    "#%run heartfailurepredictionclassificationHooks.ipynb\n",
    "try:\n",
    "\t#mlPreExecutionHook()\n",
    "\n",
    "\tdataAutoML=functionClassification(autofe, [\"age\", \"anaemia\", \"creatinine_phosphokinase\", \"diabetes\", \"ejection_fraction\", \"high_blood_pressure\", \"platelets_binarizer\", \"serum_creatinine\", \"serum_sodium\", \"sex\", \"smoking\", \"time\"], \"DEATH_EVENT\")\n",
    "\n",
    "\t#mlPostExecutionHook(dataAutoML)\n",
    "\n",
    "except Exception as ex: \n",
    "\tlogging.error(ex)\n"
   ]
  },
  {
   "cell_type": "markdown",
   "metadata": {},
   "source": [
    "***PREDICT ON TRAINED MODEL***"
   ]
  },
  {
   "cell_type": "code",
   "execution_count": null,
   "metadata": {},
   "outputs": [],
   "source": [
    "import pandas as pd\n",
    "import numpy as np\n",
    "import sklearn.metrics\n",
    "\n",
    "try:\n",
    "    model=dataAutoML['model']\n",
    "    X_test=dataAutoML['X_test']\n",
    "    y_test=dataAutoML['y_test']\n",
    "    label=dataAutoML['label']\n",
    "    columnNames=dataAutoML['columnNames']\n",
    "    if label in columnNames:\n",
    "        columnNames.remove(label)\n",
    "    predicted=label+\"_predicted\"\n",
    "    y_predicted=model.predict(X_test)\n",
    "    df =pd.DataFrame(X_test , columns=columnNames)\n",
    "    df[label]=y_test\n",
    "    df[predicted]=y_predicted\n",
    "    columnNames.insert(0,predicted)\n",
    "    columnNames.insert(0,label)\n",
    "    Accuracy = np.round((100 * sklearn.metrics.accuracy_score(y_true=y_test, y_pred=y_predicted)), 1)\n",
    "    F1= np.round(\n",
    "            (100 * sklearn.metrics.f1_score(y_true=y_test, y_pred=y_predicted, average=\"weighted\")), 1)\n",
    "    Precision= np.round((\n",
    "                100 * sklearn.metrics.precision_score(y_true=y_test, y_pred=y_predicted, average=\"weighted\")), 1)\n",
    "    Recall = np.round((\n",
    "                100 * sklearn.metrics.recall_score(y_true=y_test, y_pred=y_predicted, average=\"weighted\")), 1)\n",
    "    display(\" Accuracy of Prediction on test data    : %s\"%Accuracy)\n",
    "    display(\" F1 score of Prediction on test data    : %s\"%F1)\n",
    "    display(\" Precision of Prediction on test data   : %s\"%Precision)\n",
    "    display(\" Recall of Prediction on test data      : %s\"%Recall)\n",
    "    display(df.head())\n",
    "except Exception as ex:\n",
    "    logging.error(ex)\n",
    "\n"
   ]
  }
 ],
 "metadata": {},
 "nbformat": 4,
 "nbformat_minor": 2
}
